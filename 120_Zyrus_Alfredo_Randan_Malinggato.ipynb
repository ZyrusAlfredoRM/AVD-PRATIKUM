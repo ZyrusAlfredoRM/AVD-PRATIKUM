{
  "nbformat": 4,
  "nbformat_minor": 0,
  "metadata": {
    "colab": {
      "provenance": []
    },
    "kernelspec": {
      "name": "python3",
      "display_name": "Python 3"
    },
    "language_info": {
      "name": "python"
    }
  },
  "cells": [
    {
      "cell_type": "markdown",
      "source": [
        "# **BUSINESS UNDERSTANDING**"
      ],
      "metadata": {
        "id": "580x-sohI2Go"
      }
    },
    {
      "cell_type": "markdown",
      "source": [
        "**Business Objective**\n",
        "\n",
        "Tujuan utama proyek ini adalah untuk menganalisis dan memahami apa saja faktor-faktor yang mempengaruhi penjualan dan keuntungan suatu produk di berbagai pasar. Dengan analisis ini, kita dapat mengoptimalkan harga, diskon untuk meningkatkan pendapatan."
      ],
      "metadata": {
        "id": "b499ssnXI77k"
      }
    },
    {
      "cell_type": "markdown",
      "source": [
        "**Asses Situation**\n",
        "\n",
        "Lingkungan bisnis yang mendasari analisi ini adalah industri rital yang semakin kompetitif, sehingga mendapatkan tantangan dalam menentukan harga yang optimal, memberikan diskon yang sesuai untuk memaksimalkan pendapatan/keuntungan. Dengan memahami tren penjualan nantinya berdasarkan segmen pasar, hal ini dapat menghasilkan keputusan yang lebih baik dalam pengelolaan produk dan strategi pemasaran."
      ],
      "metadata": {
        "id": "2d-PSm7-J7Ym"
      }
    },
    {
      "cell_type": "markdown",
      "source": [
        "**Data Mining Goals**\n",
        "\n",
        "Menganalisis harga jual, jumlah unit terjual, diskon terhadap pertumbuhan pendapatan. Selain itu, data ini juga bertujuan untuk mengidentifikasi pola penjualan dan tren yang dapat membantu meningkatnya kinerja bisnis."
      ],
      "metadata": {
        "id": "HuAuFEsLLLB4"
      }
    },
    {
      "cell_type": "markdown",
      "source": [
        "**Project Plan**\n",
        "\n",
        "· Memahami Data\n",
        "· Mencari Pola & Hubungan harga, diskon, dan jumlah penjualan\n",
        "· Membuat Grafik & Visualisasi, agar lebih mudah dipahami\n",
        "· Mengambil Kesimpulan"
      ],
      "metadata": {
        "id": "1o2EC1HvL6fj"
      }
    }
  ]
}